{
 "cells": [
  {
   "cell_type": "code",
   "execution_count": 7,
   "id": "5bf4c70a-be44-4434-929d-e2c4a996bdef",
   "metadata": {},
   "outputs": [],
   "source": [
    "import json\n",
    "from deep_translator import GoogleTranslator\n"
   ]
  },
  {
   "cell_type": "code",
   "execution_count": 10,
   "id": "ba056ff9-5e56-441d-8458-2da0fd5aaaff",
   "metadata": {},
   "outputs": [
    {
     "name": "stdout",
     "output_type": "stream",
     "text": [
      "Translation completed! Check translated.jsonl\n"
     ]
    }
   ],
   "source": [
    "# Initialize translator with Urdu as target language\n",
    "translator = GoogleTranslator(source='auto', target='ur')  # 'ur' for Urdu\n",
    "\n",
    "# Define file paths\n",
    "input_file = \"fever_chunk.jsonl\"\n",
    "output_file = \"translated.jsonl\"\n",
    "\n",
    "# Open input and output files\n",
    "with open(input_file, \"r\", encoding=\"utf-8\") as infile, open(output_file, \"w\", encoding=\"utf-8\") as outfile:\n",
    "    for line in infile:\n",
    "        data = json.loads(line)  # Load JSON object from line\n",
    "        \n",
    "        if \"text\" in data:  # Assuming the text to translate is in the \"text\" key\n",
    "            # Translate the text\n",
    "            data[\"text\"] = translator.translate(data[\"text\"])\n",
    "        \n",
    "        # Write back as JSON\n",
    "        outfile.write(json.dumps(data, ensure_ascii=False) + \"\\n\")\n",
    "\n",
    "print(f\"Translation completed! Check {output_file}\")"
   ]
  },
  {
   "cell_type": "code",
   "execution_count": null,
   "id": "075ff0f2-7793-4861-9ada-4b9754b988ee",
   "metadata": {},
   "outputs": [],
   "source": []
  }
 ],
 "metadata": {
  "kernelspec": {
   "display_name": "Python 3 (ipykernel)",
   "language": "python",
   "name": "python3"
  },
  "language_info": {
   "codemirror_mode": {
    "name": "ipython",
    "version": 3
   },
   "file_extension": ".py",
   "mimetype": "text/x-python",
   "name": "python",
   "nbconvert_exporter": "python",
   "pygments_lexer": "ipython3",
   "version": "3.13.2"
  }
 },
 "nbformat": 4,
 "nbformat_minor": 5
}
