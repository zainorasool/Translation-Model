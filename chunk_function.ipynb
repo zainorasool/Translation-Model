{
 "cells": [
  {
   "cell_type": "code",
   "execution_count": 3,
   "id": "0af6351c-b9ce-41b6-ad76-d8c7ba30e7da",
   "metadata": {},
   "outputs": [],
   "source": [
    "import json"
   ]
  },
  {
   "cell_type": "code",
   "execution_count": 4,
   "id": "34411e7e-5f4c-41e2-a479-b5eb0af43ad4",
   "metadata": {},
   "outputs": [],
   "source": [
    "def extract_chunk(input_file, output_file, chunk_size=10):\n",
    "    \"\"\"\n",
    "    Extract a small chunk from a large .jsonl file and save it into a new file.\n",
    "    \n",
    "    Parameters:\n",
    "    - input_file: Path to the original .jsonl file.\n",
    "    - output_file: Path to the new file where the chunk will be saved.\n",
    "    - chunk_size: The number of lines to extract from the original file.\n",
    "    \"\"\"\n",
    "    chunk = []\n",
    "    \n",
    "    # Open the original file and read the first `chunk_size` lines\n",
    "    with open(input_file, 'r', encoding='utf-8') as infile:\n",
    "        for i, line in enumerate(infile):\n",
    "            if i >= chunk_size:\n",
    "                break\n",
    "            chunk.append(json.loads(line))\n",
    "    \n",
    "    # Save the chunk to a new .jsonl file\n",
    "    with open(output_file, 'w', encoding='utf-8') as outfile:\n",
    "        for item in chunk:\n",
    "            outfile.write(json.dumps(item) + '\\n')"
   ]
  },
  {
   "cell_type": "code",
   "execution_count": 5,
   "id": "c5b8182b-4a8a-496d-b868-0379bb18c60c",
   "metadata": {},
   "outputs": [],
   "source": [
    "input_file = 'train.jsonl'  # Replace with your actual file path\n",
    "output_file = 'fever_chunk.jsonl'    # Path to save the chunk\n",
    "\n",
    "extract_chunk(input_file, output_file, chunk_size=10)"
   ]
  },
  {
   "cell_type": "code",
   "execution_count": null,
   "id": "66bb1d10-b429-4330-afc7-da83a715c282",
   "metadata": {},
   "outputs": [],
   "source": []
  }
 ],
 "metadata": {
  "kernelspec": {
   "display_name": "Python 3",
   "language": "python",
   "name": "python3"
  },
  "language_info": {
   "codemirror_mode": {
    "name": "ipython",
    "version": 3
   },
   "file_extension": ".py",
   "mimetype": "text/x-python",
   "name": "python",
   "nbconvert_exporter": "python",
   "pygments_lexer": "ipython3",
   "version": "3.9.9"
  }
 },
 "nbformat": 4,
 "nbformat_minor": 5
}
